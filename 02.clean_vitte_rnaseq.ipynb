{
 "cells": [
  {
   "cell_type": "code",
   "execution_count": 1,
   "id": "9ba11e56-f1b4-4381-ba92-95c0c95ba671",
   "metadata": {},
   "outputs": [],
   "source": [
    "import numpy as np\n",
    "import pandas as pd\n",
    "import glob"
   ]
  },
  {
   "cell_type": "code",
   "execution_count": 2,
   "id": "c171b37c-c764-4c7e-8c9d-9d81968ca36e",
   "metadata": {},
   "outputs": [
    {
     "data": {
      "text/plain": [
       "['./data/Vitte_2017/GSM2468393_09156_9A.txt',\n",
       " './data/Vitte_2017/GSM2468394_09204_9B.txt',\n",
       " './data/Vitte_2017/GSM2468395_16017_10.txt',\n",
       " './data/Vitte_2017/GSM2468396_16018_9.txt',\n",
       " './data/Vitte_2017/GSM2468397_09189_28.txt',\n",
       " './data/Vitte_2017/GSM2468398_10074_9C.txt',\n",
       " './data/Vitte_2017/GSM2468399_10074_11C.txt',\n",
       " './data/Vitte_2017/GSM2468400_09189_29.txt',\n",
       " './data/Vitte_2017/GSM2468401_16016_9B.txt',\n",
       " './data/Vitte_2017/GSM2468402_16019_10B.txt',\n",
       " './data/Vitte_2017/GSM2468403_10321_9C.txt',\n",
       " './data/Vitte_2017/GSM2468404_16017_9.txt']"
      ]
     },
     "execution_count": 2,
     "metadata": {},
     "output_type": "execute_result"
    }
   ],
   "source": [
    "files = glob.glob(\"./data/Vitte_2017/*.txt\")\n",
    "files"
   ]
  },
  {
   "cell_type": "code",
   "execution_count": 3,
   "id": "392cfa13-c7d9-4b8e-9a0c-5c4852f4e8ad",
   "metadata": {},
   "outputs": [
    {
     "name": "stdout",
     "output_type": "stream",
     "text": [
      "(24060, 2) (24060, 1)\n",
      "(24060, 2) (24060, 2)\n",
      "(24060, 2) (24060, 3)\n",
      "(24060, 2) (24060, 4)\n",
      "(24060, 2) (24060, 5)\n",
      "(24060, 2) (24060, 6)\n",
      "(24060, 2) (24060, 7)\n",
      "(24060, 2) (24060, 8)\n",
      "(24060, 2) (24060, 9)\n",
      "(24060, 2) (24060, 10)\n",
      "(24060, 2) (24060, 11)\n",
      "(24060, 2) (24060, 12)\n"
     ]
    }
   ],
   "source": [
    "df_all = pd.DataFrame()\n",
    "\n",
    "for i, f in enumerate(files):\n",
    "    df = pd.read_csv(f, sep='\\t')\n",
    "    if i == 0:\n",
    "        genes = df['Gene'].values\n",
    "        df_all.index = genes\n",
    "    else:\n",
    "        assert np.all(genes==df['Gene'].values)\n",
    "    \n",
    "    col = df.columns[1]\n",
    "    df_all[col] = df[col].values\n",
    "    print(df.shape, df_all.shape)"
   ]
  },
  {
   "cell_type": "code",
   "execution_count": 4,
   "id": "50e1d408-e38e-4f11-a999-981103a05b8d",
   "metadata": {},
   "outputs": [],
   "source": [
    "df_all.to_csv('./data/Vitte_2017/all_samples_vitte_2017.csv', header=True, index=True)"
   ]
  },
  {
   "cell_type": "code",
   "execution_count": null,
   "id": "68ac89c8-6b33-4cf4-bd58-61a3822c5373",
   "metadata": {},
   "outputs": [],
   "source": []
  }
 ],
 "metadata": {
  "kernelspec": {
   "display_name": "Python 3 (ipykernel)",
   "language": "python",
   "name": "python3"
  },
  "language_info": {
   "codemirror_mode": {
    "name": "ipython",
    "version": 3
   },
   "file_extension": ".py",
   "mimetype": "text/x-python",
   "name": "python",
   "nbconvert_exporter": "python",
   "pygments_lexer": "ipython3",
   "version": "3.10.2"
  }
 },
 "nbformat": 4,
 "nbformat_minor": 5
}
